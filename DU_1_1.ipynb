{
 "cells": [
  {
   "cell_type": "markdown",
   "id": "06087931",
   "metadata": {},
   "source": [
    "## First Exrcise\n",
    "### Homework No.1\n",
    "- *The code below is written in python in a form of jupyter notebook*\n",
    "- *Each block is designed for one problem*"
   ]
  },
  {
   "cell_type": "code",
   "execution_count": 3,
   "id": "4105b317",
   "metadata": {},
   "outputs": [],
   "source": [
    "import timeit"
   ]
  },
  {
   "cell_type": "markdown",
   "id": "bacd930a",
   "metadata": {},
   "source": [
    "# 1a. "
   ]
  },
  {
   "cell_type": "code",
   "execution_count": 38,
   "id": "1e29a4f6",
   "metadata": {},
   "outputs": [],
   "source": [
    "def encrypt_1a(surname):\n",
    "    \n",
    "    encrypted_surname = \"\"\n",
    "    \n",
    "    for letter in surname:\n",
    "        \n",
    "        if letter.isupper():\n",
    "            new_unicode = ord(\"Z\") - ((ord(letter) + 25) - ord(\"Z\"))\n",
    "            new_character = chr(new_unicode)\n",
    "            encrypted_surname += new_character\n",
    "        \n",
    "        elif letter.islower():\n",
    "            new_unicode = ord(\"z\") - ((ord(letter) + 25) - ord(\"z\"))\n",
    "            new_character = chr(new_unicode)\n",
    "            encrypted_surname += new_character\n",
    "            \n",
    "        else:\n",
    "            encrypted_surname += letter\n",
    "            \n",
    "    return encrypted_surname"
   ]
  },
  {
   "cell_type": "code",
   "execution_count": 39,
   "id": "6e5b2422",
   "metadata": {},
   "outputs": [],
   "source": [
    "def decrypt_1a(encrypted_surname):\n",
    "    \n",
    "    decrypted_surname = \"\"\n",
    "    \n",
    "    for letter in encrypted_surname:\n",
    "\n",
    "        if letter.isupper():\n",
    "            new_unicode = ord(\"Z\") - ((ord(letter) + 25) - ord(\"Z\"))\n",
    "            new_character = chr(new_unicode)\n",
    "            decrypted_surname += new_character\n",
    "\n",
    "        elif letter.islower():\n",
    "            new_unicode = ord(\"z\") - ((ord(letter) + 25) - ord(\"z\"))\n",
    "            new_character = chr(new_unicode)\n",
    "            decrypted_surname += new_character\n",
    "            \n",
    "        else:\n",
    "            decrypted_surname += letter\n",
    "\n",
    "    return decrypted_surname"
   ]
  },
  {
   "cell_type": "code",
   "execution_count": 40,
   "id": "8f080cac",
   "metadata": {},
   "outputs": [
    {
     "name": "stdout",
     "output_type": "stream",
     "text": [
      "Encrypted message:  Zojmzgir\n",
      "---  seconds for encrypting --- 0.00010004399973695399\n",
      "Decrypted message:  Alqnatri\n",
      "---  seconds for decrypting --- 7.227000014609075e-05\n"
     ]
    }
   ],
   "source": [
    "string = input(\"Enter your message: \")\n",
    "start = timeit.default_timer()\n",
    "\n",
    "encrypted_surname = encrypt_1a(string)\n",
    "\n",
    "end = timeit.default_timer()\n",
    "\n",
    "print(\"Encrypted message: \", encrypted_surname)\n",
    "print(\"---  seconds for encrypting ---\" , end-start)\n",
    "\n",
    "\n",
    "start = timeit.default_timer()\n",
    "\n",
    "decrypted_surname = decrypt_1a(encrypted_surname)\n",
    "\n",
    "end = timeit.default_timer()\n",
    "\n",
    "print(\"Decrypted message: \",decrypted_surname)\n",
    "print(\"---  seconds for decrypting ---\" , end-start)"
   ]
  },
  {
   "cell_type": "markdown",
   "id": "db63dd22",
   "metadata": {},
   "source": [
    "# 1b."
   ]
  },
  {
   "cell_type": "code",
   "execution_count": 41,
   "id": "3ec17d04",
   "metadata": {},
   "outputs": [],
   "source": [
    "def encrypt_1b(surname):\n",
    "    \n",
    "    encrypted_surname = \"\"\n",
    "    \n",
    "    for letter in surname:\n",
    "        \n",
    "        if letter.isupper():\n",
    "            if ord(letter) <= ord(\"M\"):\n",
    "                \n",
    "                new_unicode = ord(\"M\") - ((ord(letter) + 12) - ord(\"M\"))\n",
    "                new_character = chr(new_unicode)\n",
    "                encrypted_surname += new_character\n",
    "            \n",
    "            else:\n",
    "                \n",
    "                new_unicode = ord(\"Z\") - ((ord(letter) + 12) - ord(\"Z\"))\n",
    "                new_character = chr(new_unicode)\n",
    "                encrypted_surname += new_character\n",
    "                \n",
    "        elif letter.islower():\n",
    "            if ord(letter) <= ord(\"m\"):\n",
    "                \n",
    "                new_unicode = ord(\"m\") - ((ord(letter) + 12) - ord(\"m\"))\n",
    "                new_character = chr(new_unicode)\n",
    "                encrypted_surname += new_character\n",
    "            \n",
    "            else:\n",
    "                \n",
    "                new_unicode = ord(\"z\") - ((ord(letter) + 12) - ord(\"z\"))\n",
    "                new_character = chr(new_unicode)\n",
    "                encrypted_surname += new_character\n",
    "            \n",
    "        else:\n",
    "            encrypted_surname += letter\n",
    "            \n",
    "    return encrypted_surname"
   ]
  },
  {
   "cell_type": "code",
   "execution_count": 42,
   "id": "4a377664",
   "metadata": {},
   "outputs": [],
   "source": [
    "def decrypt_1b(encrypted_surname):\n",
    "    \n",
    "    decrypted_surname = \"\"\n",
    "    \n",
    "    for letter in encrypted_surname:\n",
    "        \n",
    "        if letter.isupper():\n",
    "            if ord(letter) <= ord(\"M\"):\n",
    "                \n",
    "                new_unicode = ord(\"M\") - ((ord(letter) + 12) - ord(\"M\"))\n",
    "                new_character = chr(new_unicode)\n",
    "                decrypted_surname += new_character\n",
    "            \n",
    "            else:\n",
    "                \n",
    "                new_unicode = ord(\"Z\") - ((ord(letter) + 12) - ord(\"Z\"))\n",
    "                new_character = chr(new_unicode)\n",
    "                decrypted_surname += new_character\n",
    "                \n",
    "        elif letter.islower():\n",
    "            if ord(letter) <= ord(\"m\"):\n",
    "                \n",
    "                new_unicode = ord(\"m\") - ((ord(letter) + 12) - ord(\"m\"))\n",
    "                new_character = chr(new_unicode)\n",
    "                decrypted_surname += new_character\n",
    "            \n",
    "            else:\n",
    "                \n",
    "                new_unicode = ord(\"z\") - ((ord(letter) + 12) - ord(\"z\"))\n",
    "                new_character = chr(new_unicode)\n",
    "                decrypted_surname += new_character\n",
    "            \n",
    "        else:\n",
    "            decrypted_surname += letter\n",
    "            \n",
    "    return decrypted_surname"
   ]
  },
  {
   "cell_type": "code",
   "execution_count": 43,
   "id": "299ad49e",
   "metadata": {},
   "outputs": [
    {
     "name": "stdout",
     "output_type": "stream",
     "text": [
      "Encrypted message:  Mbwzmtve\n",
      "---  seconds for encrypting --- 0.00011746299969672691\n",
      "Decrypted message:  Alqnatri\n",
      "---  seconds for decrypting --- 6.667700017715106e-05\n"
     ]
    }
   ],
   "source": [
    "string = input(\"Enter your message: \")\n",
    "start = timeit.default_timer()\n",
    "\n",
    "encrypted_surname = encrypt_1b(string)\n",
    "\n",
    "end = timeit.default_timer()\n",
    "\n",
    "print(\"Encrypted message: \", encrypted_surname)\n",
    "print(\"---  seconds for encrypting ---\" , end-start)\n",
    "\n",
    "\n",
    "start = timeit.default_timer()\n",
    "\n",
    "decrypted_surname = decrypt_1b(encrypted_surname)\n",
    "\n",
    "end = timeit.default_timer()\n",
    "\n",
    "print(\"Decrypted message: \",decrypted_surname)\n",
    "print(\"---  seconds for decrypting ---\" , end-start)"
   ]
  },
  {
   "cell_type": "markdown",
   "id": "ea84b2fe",
   "metadata": {},
   "source": [
    "# 1c."
   ]
  },
  {
   "cell_type": "code",
   "execution_count": 45,
   "id": "80fd2b0f",
   "metadata": {},
   "outputs": [],
   "source": [
    "def encrypt_1c (surname):\n",
    "\n",
    "    if surname[0].isupper():\n",
    "        shift = ord(surname[0]) - ord(\"A\") + 1\n",
    "    elif surname[0].islower():\n",
    "        shift = ord(surname[0]) - ord(\"a\") + 1\n",
    "    else:\n",
    "        return\n",
    "        \n",
    "    encrypted_surname = \"\"\n",
    "\n",
    "    for letter in surname:\n",
    "\n",
    "        if letter.isupper():\n",
    "\n",
    "            new_index = ((ord(letter) - ord(\"A\")) + shift) % 26\n",
    "            new_unicode = new_index + ord(\"A\")\n",
    "            new_character = chr(new_unicode)\n",
    "            encrypted_surname += new_character\n",
    "            \n",
    "        elif letter.islower():\n",
    "\n",
    "            new_index = ((ord(letter) - ord(\"a\")) + shift) % 26\n",
    "            new_unicode = new_index + ord(\"a\")\n",
    "            new_character = chr(new_unicode)\n",
    "            encrypted_surname += new_character\n",
    "            \n",
    "        else:\n",
    "            encrypted_surname += letter\n",
    "\n",
    "    return encrypted_surname"
   ]
  },
  {
   "cell_type": "code",
   "execution_count": 46,
   "id": "a7c63acd",
   "metadata": {},
   "outputs": [],
   "source": [
    "def decrypt_1c(encrypted_surname, shift):\n",
    "\n",
    "    decrypted_surname = \"\"\n",
    "\n",
    "    for letter in encrypted_surname:\n",
    "\n",
    "        if letter.isupper():\n",
    "\n",
    "            new_index = ((ord(letter) - ord(\"A\")) - shift) % 26\n",
    "            new_unicode = new_index + ord(\"A\")\n",
    "            new_character = chr(new_unicode)\n",
    "            decrypted_surname += new_character\n",
    "\n",
    "        elif letter.islower():\n",
    "\n",
    "            new_index = ((ord(letter) - ord(\"a\")) - shift) % 26\n",
    "            new_unicode = new_index + ord(\"a\")\n",
    "            new_character = chr(new_unicode)\n",
    "            decrypted_surname += new_character\n",
    "            \n",
    "        else:\n",
    "            decrypted_surname += letter\n",
    "    \n",
    "    return decrypted_surname"
   ]
  },
  {
   "cell_type": "code",
   "execution_count": 51,
   "id": "d7b71ee8",
   "metadata": {},
   "outputs": [
    {
     "name": "stdout",
     "output_type": "stream",
     "text": [
      "Encrypted message:  Fqlubaq\n",
      "---  seconds for encrypting --- 0.00014002700027049286\n",
      "List of all possible decryptions...\n",
      "Epktazp\n",
      "Dojszyo\n",
      "Cniryxn\n",
      "Bmhqxwm\n",
      "Algpwvl\n",
      "Zkfovuk\n",
      "Yjenutj\n",
      "Xidmtsi\n",
      "Whclsrh\n",
      "Vgbkrqg\n",
      "Ufajqpf\n",
      "Tezipoe\n",
      "Sdyhond\n",
      "Rcxgnmc\n",
      "Qbwfmlb\n",
      "Pavelka\n",
      "Ozudkjz\n",
      "Nytcjiy\n",
      "Mxsbihx\n",
      "Lwrahgw\n",
      "Kvqzgfv\n",
      "Jupyfeu\n",
      "Itoxedt\n",
      "Hsnwdcs\n",
      "Grmvcbr\n",
      "Fqlubaq\n",
      "---  seconds for decrypting --- 0.00010461199963174295\n"
     ]
    }
   ],
   "source": [
    "string = input(\"Enter your message: \")\n",
    "start = timeit.default_timer()\n",
    "\n",
    "encrypted_surname = encrypt_1c(string)\n",
    "end = timeit.default_timer()\n",
    "print(\"Encrypted message: \", encrypted_surname)\n",
    "print(\"---  seconds for encrypting ---\" , end-start)\n",
    "\n",
    "if encrypted_surname != None:\n",
    "    list_decrypted_surname = []\n",
    "    start = timeit.default_timer()\n",
    "\n",
    "    for shift in range (1, 27):\n",
    "        result = decrypt_1c(encrypted_surname, shift)\n",
    "        list_decrypted_surname.append(result)\n",
    "\n",
    "    end = timeit.default_timer()\n",
    "    print(\"List of all possible decryptions...\")\n",
    "    for surname in list_decrypted_surname:\n",
    "        print(surname)\n",
    "\n",
    "    print(\"---  seconds for decrypting ---\" , end-start)"
   ]
  },
  {
   "cell_type": "code",
   "execution_count": 35,
   "id": "95ddab4a",
   "metadata": {},
   "outputs": [],
   "source": [
    "def decrypt_all(message:str):\n",
    "    list_decoded_message = []\n",
    "    list_decoded_message.append({\"algorithm 1\" : decrypt_1a(message)})\n",
    "    list_decoded_message.append({\"algorithm 2\" : decrypt_1b(message)})\n",
    "    list_decrypted_1c = []\n",
    "    for shift in range (1, 27):\n",
    "        list_decrypted_1c.append(decrypt_1c(message, shift))\n",
    "    list_decoded_message.append({\"algorithm 3\": list_decrypted_1c})\n",
    "\n",
    "    for decoded_message in list_decoded_message:\n",
    "        print(decoded_message)\n"
   ]
  },
  {
   "cell_type": "code",
   "execution_count": 50,
   "metadata": {},
   "outputs": [
    {
     "name": "stdout",
     "output_type": "stream",
     "text": [
      "{'algorithm 1': 'Ynilyfhq'}\n",
      "{'algorithm 2': 'Lavylsud'}\n",
      "{'algorithm 3': ['Alqnatri', 'Zkpmzsqh', 'Yjolyrpg', 'Xinkxqof', 'Whmjwpne', 'Vglivomd', 'Ufkhunlc', 'Tejgtmkb', 'Sdifslja', 'Rcherkiz', 'Qbgdqjhy', 'Pafcpigx', 'Ozebohfw', 'Nydangev', 'Mxczmfdu', 'Lwbylect', 'Kvaxkdbs', 'Juzwjcar', 'Ityvibzq', 'Hsxuhayp', 'Grwtgzxo', 'Fqvsfywn', 'Epurexvm', 'Dotqdwul', 'Cnspcvtk', 'Bmrobusj']}\n",
      "---  seconds for decrypting all 3 ways --- 0.0006180990003485931\n"
     ]
    }
   ],
   "source": [
    "#message = input(\"Enter a message: \")\n",
    "start = timeit.default_timer()\n",
    "decrypt_all('Bmrobusj')\n",
    "end = timeit.default_timer()\n",
    "print(\"---  seconds for decrypting all 3 ways ---\" , end-start)"
   ]
  },
  {
   "cell_type": "code",
   "execution_count": null,
   "metadata": {},
   "outputs": [],
   "source": []
  }
 ],
 "metadata": {
  "interpreter": {
   "hash": "84253769033749e18e4337a91eceaaa77f1a6869c9bf3ef3a4315ce6f729f788"
  },
  "kernelspec": {
   "display_name": "Python 3",
   "language": "python",
   "name": "python3"
  },
  "language_info": {
   "codemirror_mode": {
    "name": "ipython",
    "version": 3
   },
   "file_extension": ".py",
   "mimetype": "text/x-python",
   "name": "python",
   "nbconvert_exporter": "python",
   "pygments_lexer": "ipython3",
   "version": "3.9.6"
  }
 },
 "nbformat": 4,
 "nbformat_minor": 5
}
