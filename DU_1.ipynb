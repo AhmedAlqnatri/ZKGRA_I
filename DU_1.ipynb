{
 "cells": [
  {
   "cell_type": "markdown",
   "id": "06087931",
   "metadata": {},
   "source": [
    "## First Exrcise\n",
    "### Homework No.1\n",
    "- *The code below is written in python in a form of jupyter notebook*\n",
    "- *Each block is designed for one problem*"
   ]
  },
  {
   "cell_type": "code",
   "execution_count": 23,
   "id": "4105b317",
   "metadata": {},
   "outputs": [],
   "source": [
    "import timeit"
   ]
  },
  {
   "cell_type": "markdown",
   "id": "bacd930a",
   "metadata": {},
   "source": [
    "# 1a. "
   ]
  },
  {
   "cell_type": "code",
   "execution_count": 126,
   "id": "1e29a4f6",
   "metadata": {},
   "outputs": [],
   "source": [
    "def encrypt_1a(surname):\n",
    "    \n",
    "    encrypted_surname = \"\"\n",
    "    \n",
    "    for letter in surname:\n",
    "        \n",
    "        if letter.isupper():\n",
    "            new_unicode = ord(\"Z\") - ((ord(letter) + 25) - ord(\"Z\"))\n",
    "            new_character = chr(new_unicode)\n",
    "            encrypted_surname += new_character\n",
    "        \n",
    "        elif letter.islower():\n",
    "            new_unicode = ord(\"z\") - ((ord(letter) + 25) - ord(\"z\"))\n",
    "            new_character = chr(new_unicode)\n",
    "            encrypted_surname += new_character\n",
    "            \n",
    "        else:\n",
    "            encrypted_surname += letter\n",
    "            \n",
    "    return encrypted_surname"
   ]
  },
  {
   "cell_type": "code",
   "execution_count": 127,
   "id": "6e5b2422",
   "metadata": {},
   "outputs": [],
   "source": [
    "def decrypt_1a(encrypted_surname):\n",
    "    \n",
    "    decrypted_surname = \"\"\n",
    "    \n",
    "    for letter in encrypted_surname:\n",
    "\n",
    "        if letter.isupper():\n",
    "            new_unicode = ord(\"Z\") - ((ord(letter) + 25) - ord(\"Z\"))\n",
    "            new_character = chr(new_unicode)\n",
    "            decrypted_surname += new_character\n",
    "\n",
    "        elif letter.islower():\n",
    "            new_unicode = ord(\"z\") - ((ord(letter) + 25) - ord(\"z\"))\n",
    "            new_character = chr(new_unicode)\n",
    "            decrypted_surname += new_character\n",
    "            \n",
    "        else:\n",
    "            decrypted_surname += letter\n",
    "\n",
    "    return decrypted_surname"
   ]
  },
  {
   "cell_type": "code",
   "execution_count": 128,
   "id": "8f080cac",
   "metadata": {},
   "outputs": [
    {
     "name": "stdin",
     "output_type": "stream",
     "text": [
      "Enter your message:  1ahmed\n"
     ]
    },
    {
     "name": "stdout",
     "output_type": "stream",
     "text": [
      "Encrypted message:  1zsnvw\n",
      "---  seconds for encrypting --- 4.149999949731864e-05\n",
      "Decrypted message:  1ahmed\n",
      "---  seconds for decrypting --- 3.149999974993989e-05\n"
     ]
    }
   ],
   "source": [
    "string = input(\"Enter your message: \")\n",
    "start = timeit.default_timer()\n",
    "\n",
    "encrypted_surname = encrypt_1a(string)\n",
    "\n",
    "end = timeit.default_timer()\n",
    "\n",
    "print(\"Encrypted message: \", encrypted_surname)\n",
    "print(\"---  seconds for encrypting ---\" , end-start)\n",
    "\n",
    "\n",
    "start = timeit.default_timer()\n",
    "\n",
    "decrypted_surname = decrypt_1a(encrypted_surname)\n",
    "\n",
    "end = timeit.default_timer()\n",
    "\n",
    "print(\"Decrypted message: \",decrypted_surname)\n",
    "print(\"---  seconds for decrypting ---\" , end-start)"
   ]
  },
  {
   "cell_type": "markdown",
   "id": "db63dd22",
   "metadata": {},
   "source": [
    "# 1b."
   ]
  },
  {
   "cell_type": "code",
   "execution_count": 104,
   "id": "3ec17d04",
   "metadata": {},
   "outputs": [],
   "source": [
    "def encrypt_1b(surname):\n",
    "    \n",
    "    encrypted_surname = \"\"\n",
    "    \n",
    "    for letter in surname:\n",
    "        \n",
    "        if letter.isupper():\n",
    "            if ord(letter) <= ord(\"M\"):\n",
    "                \n",
    "                new_unicode = ord(\"M\") - ((ord(letter) + 12) - ord(\"M\"))\n",
    "                new_character = chr(new_unicode)\n",
    "                encrypted_surname += new_character\n",
    "            \n",
    "            else:\n",
    "                \n",
    "                new_unicode = ord(\"Z\") - ((ord(letter) + 12) - ord(\"Z\"))\n",
    "                new_character = chr(new_unicode)\n",
    "                encrypted_surname += new_character\n",
    "                \n",
    "        elif letter.islower():\n",
    "            if ord(letter) <= ord(\"m\"):\n",
    "                \n",
    "                new_unicode = ord(\"m\") - ((ord(letter) + 12) - ord(\"m\"))\n",
    "                new_character = chr(new_unicode)\n",
    "                encrypted_surname += new_character\n",
    "            \n",
    "            else:\n",
    "                \n",
    "                new_unicode = ord(\"z\") - ((ord(letter) + 12) - ord(\"z\"))\n",
    "                new_character = chr(new_unicode)\n",
    "                encrypted_surname += new_character\n",
    "            \n",
    "        else:\n",
    "            encrypted_surname += letter\n",
    "            \n",
    "    return encrypted_surname"
   ]
  },
  {
   "cell_type": "code",
   "execution_count": 105,
   "id": "4a377664",
   "metadata": {},
   "outputs": [],
   "source": [
    "def decrypt_1b(encrypted_surname):\n",
    "    \n",
    "    decrypted_surname = \"\"\n",
    "    \n",
    "    for letter in encrypted_surname:\n",
    "        \n",
    "        if letter.isupper():\n",
    "            if ord(letter) <= ord(\"M\"):\n",
    "                \n",
    "                new_unicode = ord(\"M\") - ((ord(letter) + 12) - ord(\"M\"))\n",
    "                new_character = chr(new_unicode)\n",
    "                decrypted_surname += new_character\n",
    "            \n",
    "            else:\n",
    "                \n",
    "                new_unicode = ord(\"Z\") - ((ord(letter) + 12) - ord(\"Z\"))\n",
    "                new_character = chr(new_unicode)\n",
    "                decrypted_surname += new_character\n",
    "                \n",
    "        elif letter.islower():\n",
    "            if ord(letter) <= ord(\"m\"):\n",
    "                \n",
    "                new_unicode = ord(\"m\") - ((ord(letter) + 12) - ord(\"m\"))\n",
    "                new_character = chr(new_unicode)\n",
    "                decrypted_surname += new_character\n",
    "            \n",
    "            else:\n",
    "                \n",
    "                new_unicode = ord(\"z\") - ((ord(letter) + 12) - ord(\"z\"))\n",
    "                new_character = chr(new_unicode)\n",
    "                decrypted_surname += new_character\n",
    "            \n",
    "        else:\n",
    "            decrypted_surname += letter\n",
    "            \n",
    "    return decrypted_surname"
   ]
  },
  {
   "cell_type": "code",
   "execution_count": 116,
   "id": "299ad49e",
   "metadata": {},
   "outputs": [
    {
     "name": "stdin",
     "output_type": "stream",
     "text": [
      "Enter your message:  Alqnatri\n"
     ]
    },
    {
     "name": "stdout",
     "output_type": "stream",
     "text": [
      "Encrypted message:  Mbwzmtve\n",
      "---  seconds for encrypting --- 4.1799998143687844e-05\n",
      "Decrypted message:  Alqnatri\n",
      "---  seconds for decrypting --- 3.560000186553225e-05\n"
     ]
    }
   ],
   "source": [
    "string = input(\"Enter your message: \")\n",
    "start = timeit.default_timer()\n",
    "\n",
    "encrypted_surname = encrypt_1b(string)\n",
    "\n",
    "end = timeit.default_timer()\n",
    "\n",
    "print(\"Encrypted message: \", encrypted_surname)\n",
    "print(\"---  seconds for encrypting ---\" , end-start)\n",
    "\n",
    "\n",
    "start = timeit.default_timer()\n",
    "\n",
    "decrypted_surname = decrypt_1b(encrypted_surname)\n",
    "\n",
    "end = timeit.default_timer()\n",
    "\n",
    "print(\"Decrypted message: \",decrypted_surname)\n",
    "print(\"---  seconds for decrypting ---\" , end-start)"
   ]
  },
  {
   "cell_type": "markdown",
   "id": "ea84b2fe",
   "metadata": {},
   "source": [
    "# 1c."
   ]
  },
  {
   "cell_type": "code",
   "execution_count": 129,
   "id": "80fd2b0f",
   "metadata": {},
   "outputs": [],
   "source": [
    "def encrypt_1c (surname):\n",
    "\n",
    "    if surname[0].isupper():\n",
    "        shift = ord(surname[0]) - ord(\"A\") + 1\n",
    "    elif surname[0].islower():\n",
    "        shift = ord(surname[0]) - ord(\"a\") + 1\n",
    "    else:\n",
    "        return\n",
    "        \n",
    "    encrypted_surname = \"\"\n",
    "\n",
    "    for letter in surname:\n",
    "\n",
    "        if letter.isupper():\n",
    "\n",
    "            new_index = ((ord(letter) - ord(\"A\")) + shift) % 26\n",
    "            new_unicode = new_index + ord(\"A\")\n",
    "            new_character = chr(new_unicode)\n",
    "            encrypted_surname += new_character\n",
    "            \n",
    "        elif letter.islower():\n",
    "\n",
    "            new_index = ((ord(letter) - ord(\"a\")) + shift) % 26\n",
    "            new_unicode = new_index + ord(\"a\")\n",
    "            new_character = chr(new_unicode)\n",
    "            encrypted_surname += new_character\n",
    "            \n",
    "        else:\n",
    "            encrypted_surname += letter\n",
    "\n",
    "    return encrypted_surname"
   ]
  },
  {
   "cell_type": "code",
   "execution_count": 130,
   "id": "a7c63acd",
   "metadata": {},
   "outputs": [],
   "source": [
    "def decrypt_1c(encrypted_surname, shift):\n",
    "\n",
    "    decrypted_surname = \"\"\n",
    "\n",
    "    for letter in encrypted_surname:\n",
    "\n",
    "        if letter.isupper():\n",
    "\n",
    "            new_index = ((ord(letter) - ord(\"A\")) - shift) % 26\n",
    "            new_unicode = new_index + ord(\"A\")\n",
    "            new_character = chr(new_unicode)\n",
    "            decrypted_surname += new_character\n",
    "\n",
    "        elif letter.islower():\n",
    "\n",
    "            new_index = ((ord(letter) - ord(\"a\")) - shift) % 26\n",
    "            new_unicode = new_index + ord(\"a\")\n",
    "            new_character = chr(new_unicode)\n",
    "            decrypted_surname += new_character\n",
    "            \n",
    "        else:\n",
    "            decrypted_surname += letter\n",
    "    \n",
    "    return decrypted_surname"
   ]
  },
  {
   "cell_type": "code",
   "execution_count": 134,
   "id": "d7b71ee8",
   "metadata": {},
   "outputs": [
    {
     "name": "stdin",
     "output_type": "stream",
     "text": [
      "Enter your message:  Alqantri\n"
     ]
    },
    {
     "name": "stdout",
     "output_type": "stream",
     "text": [
      "Encrypted message:  Bmrbousj\n",
      "---  seconds for encrypting --- 4.380000245873816e-05\n",
      "List of all possible decryptions...\n",
      "Alqantri\n",
      "Zkpzmsqh\n",
      "Yjoylrpg\n",
      "Xinxkqof\n",
      "Whmwjpne\n",
      "Vglviomd\n",
      "Ufkuhnlc\n",
      "Tejtgmkb\n",
      "Sdisflja\n",
      "Rchrekiz\n",
      "Qbgqdjhy\n",
      "Pafpcigx\n",
      "Ozeobhfw\n",
      "Nydnagev\n",
      "Mxcmzfdu\n",
      "Lwblyect\n",
      "Kvakxdbs\n",
      "Juzjwcar\n",
      "Ityivbzq\n",
      "Hsxhuayp\n",
      "Grwgtzxo\n",
      "Fqvfsywn\n",
      "Epuerxvm\n",
      "Dotdqwul\n",
      "Cnscpvtk\n",
      "Bmrbousj\n",
      "---  seconds for decrypting --- 7.809999806340784e-05\n"
     ]
    }
   ],
   "source": [
    "string = input(\"Enter your message: \")\n",
    "start = timeit.default_timer()\n",
    "\n",
    "encrypted_surname = encrypt_1c(string)\n",
    "end = timeit.default_timer()\n",
    "print(\"Encrypted message: \", encrypted_surname)\n",
    "print(\"---  seconds for encrypting ---\" , end-start)\n",
    "\n",
    "if encrypted_surname != None:\n",
    "    list_decrypted_surname = []\n",
    "    start = timeit.default_timer()\n",
    "\n",
    "    for shift in range (1, 27):\n",
    "        result = decrypt_1c(encrypted_surname, shift)\n",
    "        list_decrypted_surname.append(result)\n",
    "\n",
    "    end = timeit.default_timer()\n",
    "    print(\"List of all possible decryptions...\")\n",
    "    for surname in list_decrypted_surname:\n",
    "        print(surname)\n",
    "\n",
    "    print(\"---  seconds for decrypting ---\" , end-start)"
   ]
  },
  {
   "cell_type": "code",
   "execution_count": null,
   "id": "95ddab4a",
   "metadata": {},
   "outputs": [],
   "source": []
  }
 ],
 "metadata": {
  "interpreter": {
   "hash": "c813e35f13adfabdf61af3a9d27cd0c2562b94cdc4601ad07330d1e3f42b239f"
  },
  "kernelspec": {
   "display_name": "Python 3",
   "language": "python",
   "name": "python3"
  },
  "language_info": {
   "codemirror_mode": {
    "name": "ipython",
    "version": 3
   },
   "file_extension": ".py",
   "mimetype": "text/x-python",
   "name": "python",
   "nbconvert_exporter": "python",
   "pygments_lexer": "ipython3",
   "version": "3.8.8"
  }
 },
 "nbformat": 4,
 "nbformat_minor": 5
}
